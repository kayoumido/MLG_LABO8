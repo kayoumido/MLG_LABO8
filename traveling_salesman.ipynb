{
 "cells": [
  {
   "cell_type": "markdown",
   "metadata": {},
   "source": [
    "# The Burman Traveling Salesman Problem "
   ]
  },
  {
   "cell_type": "code",
   "execution_count": 1,
   "metadata": {},
   "outputs": [],
   "source": [
    "from pyevolve import G1DList\n",
    "from pyevolve import GSimpleGA\n",
    "from pyevolve import Consts\n",
    "from pyevolve import Mutators\n",
    "from pyevolve import DBAdapters\n",
    "\n",
    "import geopy.distance\n",
    "import random"
   ]
  },
  {
   "cell_type": "code",
   "execution_count": 2,
   "metadata": {},
   "outputs": [],
   "source": [
    "LAT = [16.47, 16.47, 20.09, 22.39, 25.23, 22.00, 20.47, \n",
    "       17.20, 16.30, 14.05, 16.53, 21.52, 19.41, 20.09]\n",
    "\n",
    "LON = [96.10, 94.44, 92.54, 93.37, 97.24, 96.05, 97.02, \n",
    "       96.29, 97.38, 98.12, 97.38, 95.59, 97.13, 94.55]\n",
    "\n",
    "coordinates = list(zip(LAT, LON))"
   ]
  },
  {
   "cell_type": "code",
   "execution_count": 3,
   "metadata": {},
   "outputs": [],
   "source": [
    "def distance(origin, dest):\n",
    "    \"\"\"\n",
    "    Calculate the distance between two lat, long coordinates.\n",
    "\n",
    "    Parameters\n",
    "    ----------\n",
    "    `origin` : tuple of float (lat, long)\n",
    "    `dest`   : tuple of float (lat, long)\n",
    "\n",
    "    Returns\n",
    "    -------\n",
    "    distance_in_km : float\n",
    "    \"\"\"\n",
    "    return geopy.distance.distance(origin, dest).km"
   ]
  },
  {
   "cell_type": "code",
   "execution_count": 4,
   "metadata": {
    "scrolled": true
   },
   "outputs": [],
   "source": [
    "def distance_matrix(coord):\n",
    "    \"\"\"\n",
    "    Calculate the distances between all the towns in a list\n",
    "    \n",
    "    Parameters\n",
    "    ----------\n",
    "    `coord` : List of tuples (lat, long) representing towns\n",
    "    \n",
    "    Returns\n",
    "    -------\n",
    "    Matrix containing the distances between each town\n",
    "    \"\"\"\n",
    "\n",
    "    matrix = {}\n",
    "    for i, origin in enumerate(coord):\n",
    "        for j, dest in enumerate(coord):\n",
    "            matrix[i, j] = distance(origin, dest)\n",
    "    return matrix"
   ]
  },
  {
   "cell_type": "code",
   "execution_count": 5,
   "metadata": {},
   "outputs": [],
   "source": [
    "def fitness(genome):\n",
    "    \"\"\"\n",
    "    Fitness function for the genetic algorithm\n",
    "        \n",
    "    Parameters\n",
    "    ----------\n",
    "    `genome` : the genome to fit\n",
    "    \n",
    "    Returns\n",
    "    -------\n",
    "    The score of the given genome\n",
    "    \"\"\"\n",
    "    global distances\n",
    "    \n",
    "    score = 0.0\n",
    "\n",
    "    for i in range(len(genome)):\n",
    "        # get index of the next city\n",
    "        # note: when the src city is the last one in\n",
    "        #       the chromosome, the next one is the first one.\n",
    "        #       hence the modulo\n",
    "        j = (i + 1) % len(genome)  \n",
    "        score += distances[genome[i], genome[j]]\n",
    "    return score"
   ]
  },
  {
   "cell_type": "code",
   "execution_count": 6,
   "metadata": {},
   "outputs": [],
   "source": [
    "def init(genome, **kwargs):\n",
    "    \"\"\"\n",
    "    Init function for the genetic algorithm\n",
    "    \"\"\"\n",
    "    genome.clearList()\n",
    "    lst = [i for i in range(genome.getListSize())]\n",
    "    random.shuffle(lst)\n",
    "\n",
    "    for city in lst:\n",
    "        genome.append(city)"
   ]
  },
  {
   "cell_type": "code",
   "execution_count": 10,
   "metadata": {
    "scrolled": false
   },
   "outputs": [
    {
     "name": "stdout",
     "output_type": "stream",
     "text": [
      "Gen. 0 (0.00%): Max/Min/Avg Fitness(Raw)             [8129.47(8538.44)/5303.20(4859.08)/6774.56(6774.56)]\n",
      "Gen. 10 (40.00%): Max/Min/Avg Fitness(Raw)             [4422.28(5901.52)/3619.32(3487.02)/3685.24(3685.24)]\n",
      "Gen. 20 (80.00%): Max/Min/Avg Fitness(Raw)             [4282.79(5873.77)/3500.16(3346.76)/3568.99(3568.99)]\n",
      "Gen. 25 (100.00%): Max/Min/Avg Fitness(Raw)             [4309.38(6357.93)/3527.71(3346.76)/3591.15(3591.15)]\n",
      "Total time elapsed: 0.278 seconds.\n"
     ]
    },
    {
     "data": {
      "text/plain": [
       "- GenomeBase\n",
       "\tScore:\t\t\t 3346.761974\n",
       "\tFitness:\t\t 3527.709471\n",
       "\n",
       "\tParams:\t\t {'rangemin': 0, 'rangemax': 13}\n",
       "\n",
       "\tSlot [Evaluator] (Count: 1)\n",
       "\t\tName: fitness - Weight: 0.50\n",
       "\t\tDoc: \n",
       "    Fitness function for the genetic algorithm\n",
       "        \n",
       "    Parameters\n",
       "    ----------\n",
       "    `genome` : the genome to fit\n",
       "    \n",
       "    Returns\n",
       "    -------\n",
       "    The score of the given genome\n",
       "    \n",
       "\tSlot [Initializator] (Count: 1)\n",
       "\t\tName: init - Weight: 0.50\n",
       "\t\tDoc: \n",
       "    Init function for the genetic algorithm\n",
       "    \n",
       "\tSlot [Mutator] (Count: 1)\n",
       "\t\tName: G1DListMutatorSwap - Weight: 0.50\n",
       "\t\tDoc:  The mutator of G1DList, Swap Mutator\n",
       "\n",
       "    .. note:: this mutator is :term:`Data Type Independent`\n",
       "\n",
       "    \n",
       "\tSlot [Crossover] (Count: 1)\n",
       "\t\tName: G1DListCrossoverSinglePoint - Weight: 0.50\n",
       "\t\tDoc:  The crossover of G1DList, Single Point\n",
       "\n",
       "    .. warning:: You can't use this crossover method for lists with just one element.\n",
       "\n",
       "    \n",
       "\n",
       "- G1DList\n",
       "\tList size:\t 14\n",
       "\tList:\t\t [7, 12, 6, 11, 5, 4, 3, 2, 13, 1, 0, 9, 8, 10]\n"
      ]
     },
     "execution_count": 10,
     "metadata": {},
     "output_type": "execute_result"
    }
   ],
   "source": [
    "global distances\n",
    "\n",
    "distances = distance_matrix(coordinates)\n",
    "\n",
    "genome = G1DList.G1DList(len(coordinates))\n",
    "\n",
    "genome.evaluator.set(fitness)\n",
    "genome.mutator.set(Mutators.G1DListMutatorSwap)\n",
    "genome.initializator.set(init)\n",
    "\n",
    "genome.setParams(rangemin=0, rangemax=len(coordinates)-1)\n",
    "\n",
    "ga = GSimpleGA.GSimpleGA(genome)\n",
    "\n",
    "ga.setPopulationSize(280)\n",
    "ga.setMutationRate(0.02)\n",
    "ga.setCrossoverRate(0.9)\n",
    "\n",
    "ga.setMinimax(Consts.minimaxType['minimize'])\n",
    "\n",
    "# Record evolution results in a database\n",
    "ga.setDBAdapter(DBAdapters.DBSQLite(identify=\"tsp\"))\n",
    "\n",
    "ga.setGenerations(25)\n",
    "\n",
    "ga.evolve(freq_stats=10)\n",
    "\n",
    "ga.bestIndividual()\n"
   ]
  },
  {
   "cell_type": "code",
   "execution_count": 11,
   "metadata": {},
   "outputs": [
    {
     "name": "stdout",
     "output_type": "stream",
     "text": [
      "Pyevolve 0.6 - Graph Plot Tool\n",
      "By Christian S. Perone\n",
      "\n",
      "Loading modules....\n",
      "Loading database and creating graph...\n",
      "25 generations found !\n"
     ]
    },
    {
     "data": {
      "image/png": "[encoded data removed]",
      "text/plain": [
       "<Figure size 432x288 with 1 Axes>"
      ]
     },
     "metadata": {
      "needs_background": "light"
     },
     "output_type": "display_data"
    }
   ],
   "source": [
    "# Generate a graph showing the evolutionary results: fitness vs generations\n",
    "%run ~/.conda/envs/mlg_ga/bin/pyevolve_graph.py -i tsp -2"
   ]
  },
  {
   "cell_type": "code",
   "execution_count": 12,
   "metadata": {},
   "outputs": [
    {
     "name": "stdout",
     "output_type": "stream",
     "text": [
      "Pyevolve 0.6 - Graph Plot Tool\n",
      "By Christian S. Perone\n",
      "\n",
      "Loading modules....\n",
      "Loading database and creating graph...\n",
      "25 generations found !\n"
     ]
    },
    {
     "data": {
      "image/png": "[encoded data removed]",
      "text/plain": [
       "<Figure size 432x288 with 1 Axes>"
      ]
     },
     "metadata": {
      "needs_background": "light"
     },
     "output_type": "display_data"
    }
   ],
   "source": [
    "# Generate a graph showing the evolutionary results: fitness vs generations\n",
    "%run ~/.conda/envs/mlg_ga/bin/pyevolve_graph.py -i tsp -4"
   ]
  },
  {
   "cell_type": "code",
   "execution_count": null,
   "metadata": {},
   "outputs": [],
   "source": []
  }
 ],
 "metadata": {
  "kernelspec": {
   "display_name": "Python 3",
   "language": "python",
   "name": "python3"
  },
  "language_info": {
   "codemirror_mode": {
    "name": "ipython",
    "version": 3
   },
   "file_extension": ".py",
   "mimetype": "text/x-python",
   "name": "python",
   "nbconvert_exporter": "python",
   "pygments_lexer": "ipython3",
   "version": "3.7.10"
  }
 },
 "nbformat": 4,
 "nbformat_minor": 4
}
