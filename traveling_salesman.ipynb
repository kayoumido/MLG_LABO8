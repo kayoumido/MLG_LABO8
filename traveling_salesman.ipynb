{
 "cells": [
  {
   "cell_type": "markdown",
   "metadata": {},
   "source": [
    "# The Burman Traveling Salesman Problem "
   ]
  },
  {
   "cell_type": "code",
   "execution_count": 10,
   "metadata": {},
   "outputs": [],
   "source": [
    "from pyevolve import G1DList\n",
    "from pyevolve import GSimpleGA\n",
    "from pyevolve import Selectors\n",
    "from pyevolve import Statistics\n",
    "from pyevolve import Consts\n",
    "from pyevolve import Mutators\n",
    "from pyevolve import DBAdapters\n",
    "\n",
    "from PIL import Image, ImageDraw, ImageFont\n",
    "\n",
    "import geopy.distance\n",
    "import random"
   ]
  },
  {
   "cell_type": "code",
   "execution_count": 3,
   "metadata": {},
   "outputs": [],
   "source": [
    "LAT = [16.47, 16.47, 20.09, 22.39, 25.23, 22.00, 20.47, \n",
    "       17.20, 16.30, 14.05, 16.53, 21.52, 19.41, 20.09]\n",
    "\n",
    "LON = [96.10, 94.44, 92.54, 93.37, 97.24, 96.05, 97.02, \n",
    "       96.29, 97.38, 98.12, 97.38, 95.59, 97.13, 94.55]\n",
    "\n",
    "coordinates = list(zip(LAT, LON))"
   ]
  },
  {
   "cell_type": "code",
   "execution_count": 4,
   "metadata": {},
   "outputs": [],
   "source": [
    "def distance(origin, dest):\n",
    "    \"\"\"\n",
    "    Calculate the distance between two lat, long coordinates.\n",
    "\n",
    "    Parameters\n",
    "    ----------\n",
    "    `origin` : tuple of float (lat, long)\n",
    "    `dest`   : tuple of float (lat, long)\n",
    "\n",
    "    Returns\n",
    "    -------\n",
    "    distance_in_km : float\n",
    "\n",
    "    Examples\n",
    "    --------\n",
    "    origin = (46.5197, 6.6323)  # Lausanne\n",
    "    destination = (46.2044, 6.1432)  # Geneva\n",
    "    round(distance(origin, destination), 1)\n",
    "    51.4\n",
    "    \"\"\"\n",
    "    return geopy.distance.distance(origin, dest).km"
   ]
  },
  {
   "cell_type": "code",
   "execution_count": 5,
   "metadata": {
    "scrolled": true
   },
   "outputs": [],
   "source": [
    "def distance_matrix(coord):\n",
    "    \"\"\"\n",
    "    Calculate the distances between all the towns in a list\n",
    "    \n",
    "    Parameters\n",
    "    ----------\n",
    "    `coord` : List of tuples (lat, long) representing towns\n",
    "    \n",
    "    Returns\n",
    "    -------\n",
    "    Matrix containing the distances between each town\n",
    "    \"\"\"\n",
    "\n",
    "    matrix = {}\n",
    "    for i, origin in enumerate(coord):\n",
    "        for j, dest in enumerate(coord):\n",
    "            matrix[i, j] = distance(origin, dest)\n",
    "    return matrix"
   ]
  },
  {
   "cell_type": "code",
   "execution_count": 6,
   "metadata": {},
   "outputs": [],
   "source": [
    "def fitness(chromosome):\n",
    "    \"\"\"\n",
    "    Fitness function for the genetic algorithm\n",
    "    \"\"\"\n",
    "    global distances\n",
    "    \n",
    "    score = 0.0\n",
    "    \n",
    "    travel_len = len(chromosome)\n",
    "    for i in range(travel_len):\n",
    "        # get index of the next city\n",
    "        # note: when the src city is the last one in\n",
    "        #       the chromosome, the next one is the first one.\n",
    "        #       hence the modulo\n",
    "        j = (i + 1) % travel_len  \n",
    "        score += distances[chromosome[i], chromosome[j]]\n",
    "    return score"
   ]
  },
  {
   "cell_type": "code",
   "execution_count": 7,
   "metadata": {},
   "outputs": [],
   "source": [
    "def init(genome, **kwargs):\n",
    "    \"\"\"\n",
    "    Init function for the genetic algorithm\n",
    "    \"\"\"\n",
    "    genome.clearList()\n",
    "    lst = [i for i in range(genome.getListSize())]\n",
    "    random.shuffle(lst)\n",
    "\n",
    "    for city in lst:\n",
    "        genome.append(city)"
   ]
  },
  {
   "cell_type": "code",
   "execution_count": 30,
   "metadata": {},
   "outputs": [
    {
     "name": "stdout",
     "output_type": "stream",
     "text": [
      "Gen. 0 (0.00%): Max/Min/Avg Fitness(Raw)             [8059.21(8804.50)/5295.82(4507.81)/6716.01(6716.01)]\n",
      "Gen. 10 (2.00%): Max/Min/Avg Fitness(Raw)             [4152.77(5823.33)/3427.28(3346.76)/3460.64(3460.64)]\n",
      "Gen. 20 (4.00%): Max/Min/Avg Fitness(Raw)             [4222.83(6010.10)/3470.35(3346.76)/3519.02(3519.02)]\n",
      "Gen. 30 (6.00%): Max/Min/Avg Fitness(Raw)             [4151.67(5996.49)/3428.91(3346.76)/3459.73(3459.73)]\n",
      "Gen. 40 (8.00%): Max/Min/Avg Fitness(Raw)             [4157.37(6101.07)/3433.54(3346.76)/3464.48(3464.48)]\n",
      "Gen. 50 (10.00%): Max/Min/Avg Fitness(Raw)             [4153.01(6289.42)/3432.93(3346.76)/3460.85(3460.85)]\n",
      "Gen. 60 (12.00%): Max/Min/Avg Fitness(Raw)             [4154.45(5823.33)/3428.24(3346.76)/3462.04(3462.04)]\n",
      "Gen. 70 (14.00%): Max/Min/Avg Fitness(Raw)             [4167.90(6254.37)/3441.66(3346.76)/3473.25(3473.25)]\n",
      "Gen. 80 (16.00%): Max/Min/Avg Fitness(Raw)             [4145.36(7456.48)/3435.87(3346.76)/3454.47(3454.47)]\n",
      "Gen. 90 (18.00%): Max/Min/Avg Fitness(Raw)             [4174.86(6427.00)/3447.83(3346.76)/3479.05(3479.05)]\n",
      "Gen. 100 (20.00%): Max/Min/Avg Fitness(Raw)             [4164.48(6811.40)/3444.71(3346.76)/3470.40(3470.40)]\n",
      "Gen. 110 (22.00%): Max/Min/Avg Fitness(Raw)             [4170.28(7010.83)/3449.98(3346.76)/3475.24(3475.24)]\n",
      "Gen. 120 (24.00%): Max/Min/Avg Fitness(Raw)             [4132.93(5823.33)/3415.93(3346.76)/3444.11(3444.11)]\n",
      "Gen. 130 (26.00%): Max/Min/Avg Fitness(Raw)             [4141.73(5886.48)/3421.76(3346.76)/3451.44(3451.44)]\n",
      "Gen. 140 (28.00%): Max/Min/Avg Fitness(Raw)             [4169.51(6754.68)/3447.51(3346.76)/3474.59(3474.59)]\n",
      "Gen. 150 (30.00%): Max/Min/Avg Fitness(Raw)             [4164.72(6179.13)/3438.86(3346.76)/3470.60(3470.60)]\n",
      "Gen. 160 (32.00%): Max/Min/Avg Fitness(Raw)             [4142.44(5823.33)/3421.38(3346.76)/3452.03(3452.03)]\n",
      "Gen. 170 (34.00%): Max/Min/Avg Fitness(Raw)             [4177.44(6127.99)/3445.84(3346.76)/3481.20(3481.20)]\n",
      "Gen. 180 (36.00%): Max/Min/Avg Fitness(Raw)             [4177.56(6078.18)/3445.23(3346.76)/3481.30(3481.30)]\n",
      "Gen. 190 (38.00%): Max/Min/Avg Fitness(Raw)             [4176.84(6289.60)/3447.50(3346.76)/3480.70(3480.70)]\n",
      "Gen. 200 (40.00%): Max/Min/Avg Fitness(Raw)             [4182.29(5823.33)/3443.96(3346.76)/3485.24(3485.24)]\n",
      "Gen. 210 (42.00%): Max/Min/Avg Fitness(Raw)             [4198.68(6346.36)/3461.51(3346.76)/3498.90(3498.90)]\n",
      "Gen. 220 (44.00%): Max/Min/Avg Fitness(Raw)             [4159.71(6100.81)/3434.93(3346.76)/3466.42(3466.42)]\n",
      "Gen. 230 (46.00%): Max/Min/Avg Fitness(Raw)             [4170.49(7335.40)/3452.25(3346.76)/3475.41(3475.41)]\n",
      "Gen. 240 (48.00%): Max/Min/Avg Fitness(Raw)             [4156.05(5823.33)/3429.14(3346.76)/3463.37(3463.37)]\n",
      "Gen. 250 (50.00%): Max/Min/Avg Fitness(Raw)             [4151.58(7032.58)/3437.79(3346.76)/3459.65(3459.65)]\n",
      "Gen. 260 (52.00%): Max/Min/Avg Fitness(Raw)             [4163.79(6326.43)/3439.93(3346.76)/3469.82(3469.82)]\n",
      "Gen. 270 (54.00%): Max/Min/Avg Fitness(Raw)             [4154.28(5886.31)/3429.02(3346.76)/3461.90(3461.90)]\n",
      "Gen. 280 (56.00%): Max/Min/Avg Fitness(Raw)             [4177.85(6616.38)/3451.61(3346.76)/3481.55(3481.55)]\n",
      "Gen. 290 (58.00%): Max/Min/Avg Fitness(Raw)             [4163.68(6227.65)/3438.79(3346.76)/3469.73(3469.73)]\n",
      "Gen. 300 (60.00%): Max/Min/Avg Fitness(Raw)             [4206.14(6851.34)/3471.94(3346.76)/3505.12(3505.12)]\n",
      "Gen. 310 (62.00%): Max/Min/Avg Fitness(Raw)             [4158.60(5860.14)/3431.13(3346.76)/3465.50(3465.50)]\n",
      "Gen. 320 (64.00%): Max/Min/Avg Fitness(Raw)             [4150.13(6269.13)/3430.96(3346.76)/3458.44(3458.44)]\n",
      "Gen. 330 (66.00%): Max/Min/Avg Fitness(Raw)             [4149.66(7068.66)/3436.73(3346.76)/3458.05(3458.05)]\n",
      "Gen. 340 (68.00%): Max/Min/Avg Fitness(Raw)             [4179.65(5823.33)/3442.48(3346.76)/3483.04(3483.04)]\n",
      "Gen. 350 (70.00%): Max/Min/Avg Fitness(Raw)             [4146.37(6257.52)/3428.54(3346.76)/3455.31(3455.31)]\n",
      "Gen. 360 (72.00%): Max/Min/Avg Fitness(Raw)             [4162.32(6880.30)/3443.82(3346.76)/3468.60(3468.60)]\n",
      "Gen. 370 (74.00%): Max/Min/Avg Fitness(Raw)             [4196.26(6012.88)/3455.16(3346.76)/3496.89(3496.89)]\n",
      "Gen. 380 (76.00%): Max/Min/Avg Fitness(Raw)             [4191.13(5985.13)/3451.74(3346.76)/3492.61(3492.61)]\n",
      "Gen. 390 (78.00%): Max/Min/Avg Fitness(Raw)             [4139.91(5761.26)/3419.13(3346.76)/3449.92(3449.92)]\n",
      "Gen. 400 (80.00%): Max/Min/Avg Fitness(Raw)             [4175.48(6376.05)/3447.66(3346.76)/3479.57(3479.57)]\n",
      "Gen. 410 (82.00%): Max/Min/Avg Fitness(Raw)             [4163.52(5986.54)/3435.73(3346.76)/3469.60(3469.60)]\n",
      "Gen. 420 (84.00%): Max/Min/Avg Fitness(Raw)             [4155.59(6090.76)/3432.36(3346.76)/3462.99(3462.99)]\n",
      "Gen. 430 (86.00%): Max/Min/Avg Fitness(Raw)             [4158.34(5823.33)/3430.45(3346.76)/3465.28(3465.28)]\n",
      "Gen. 440 (88.00%): Max/Min/Avg Fitness(Raw)             [4184.03(5836.02)/3445.16(3346.76)/3486.69(3486.69)]\n",
      "Gen. 450 (90.00%): Max/Min/Avg Fitness(Raw)             [4157.94(5847.53)/3430.57(3346.76)/3464.95(3464.95)]\n",
      "Gen. 460 (92.00%): Max/Min/Avg Fitness(Raw)             [4171.80(6524.57)/3446.91(3346.76)/3476.50(3476.50)]\n",
      "Gen. 470 (94.00%): Max/Min/Avg Fitness(Raw)             [4131.64(5931.46)/3416.39(3346.76)/3443.03(3443.03)]\n",
      "Gen. 480 (96.00%): Max/Min/Avg Fitness(Raw)             [4167.53(6913.49)/3447.47(3346.76)/3472.94(3472.94)]\n",
      "Gen. 490 (98.00%): Max/Min/Avg Fitness(Raw)             [4176.06(6249.40)/3446.55(3346.76)/3480.05(3480.05)]\n",
      "Gen. 500 (100.00%): Max/Min/Avg Fitness(Raw)             [4153.81(6475.25)/3435.15(3346.76)/3461.51(3461.51)]\n",
      "Total time elapsed: 14.909 seconds.\n"
     ]
    },
    {
     "data": {
      "text/plain": [
       "- GenomeBase\n",
       "\tScore:\t\t\t 3346.761974\n",
       "\tFitness:\t\t 3435.149216\n",
       "\n",
       "\tParams:\t\t {'rangemin': 0, 'rangemax': 14}\n",
       "\n",
       "\tSlot [Evaluator] (Count: 1)\n",
       "\t\tName: fitness - Weight: 0.50\n",
       "\tSlot [Initializator] (Count: 1)\n",
       "\t\tName: init - Weight: 0.50\n",
       "\tSlot [Mutator] (Count: 1)\n",
       "\t\tName: G1DListMutatorSwap - Weight: 0.50\n",
       "\t\tDoc:  The mutator of G1DList, Swap Mutator\n",
       "\n",
       "    .. note:: this mutator is :term:`Data Type Independent`\n",
       "\n",
       "    \n",
       "\tSlot [Crossover] (Count: 1)\n",
       "\t\tName: G1DListCrossoverSinglePoint - Weight: 0.50\n",
       "\t\tDoc:  The crossover of G1DList, Single Point\n",
       "\n",
       "    .. warning:: You can't use this crossover method for lists with just one element.\n",
       "\n",
       "    \n",
       "\n",
       "- G1DList\n",
       "\tList size:\t 14\n",
       "\tList:\t\t [0, 9, 8, 10, 7, 12, 6, 11, 5, 4, 3, 2, 13, 1]\n"
      ]
     },
     "execution_count": 30,
     "metadata": {},
     "output_type": "execute_result"
    }
   ],
   "source": [
    "global distances\n",
    "\n",
    "distances = distance_matrix(coordinates)\n",
    "\n",
    "genome = G1DList.G1DList(len(coordinates))\n",
    "\n",
    "genome.evaluator.set(fitness)\n",
    "genome.mutator.set(Mutators.G1DListMutatorSwap)\n",
    "genome.initializator.set(init)\n",
    "\n",
    "genome.setParams(rangemin=0, rangemax=len(coordinates)-1)\n",
    "\n",
    "ga = GSimpleGA.GSimpleGA(genome)\n",
    "ga.setPopulationSize(1000)\n",
    "ga.setMutationRate(0.01)\n",
    "ga.setCrossoverRate(0.8)\n",
    "\n",
    "ga.setMinimax(Consts.minimaxType['minimize'])\n",
    "\n",
    "# Record evolution results in a database\n",
    "ga.setDBAdapter(DBAdapters.DBSQLite(identify=\"tsp\"))\n",
    "\n",
    "ga.setGenerations(500)\n",
    "\n",
    "ga.evolve(freq_stats=10)\n",
    "\n",
    "ga.bestIndividual()"
   ]
  },
  {
   "cell_type": "code",
   "execution_count": 29,
   "metadata": {},
   "outputs": [
    {
     "name": "stdout",
     "output_type": "stream",
     "text": [
      "Pyevolve 0.6 - Graph Plot Tool\n",
      "By Christian S. Perone\n",
      "\n",
      "Loading modules....\n",
      "Loading database and creating graph...\n",
      "500 generations found !\n"
     ]
    },
    {
     "data": {
      "image/png": "[encoded data removed]",
      "text/plain": [
       "<Figure size 432x288 with 1 Axes>"
      ]
     },
     "metadata": {
      "needs_background": "light"
     },
     "output_type": "display_data"
    }
   ],
   "source": [
    "# Generate a graph showing the evolutionary results: fitness vs generations\n",
    "%run ~/.conda/envs/mlg_ga/bin/pyevolve_graph.py -i tsp -2"
   ]
  },
  {
   "cell_type": "code",
   "execution_count": null,
   "metadata": {},
   "outputs": [],
   "source": []
  }
 ],
 "metadata": {
  "kernelspec": {
   "display_name": "Python 3",
   "language": "python",
   "name": "python3"
  },
  "language_info": {
   "codemirror_mode": {
    "name": "ipython",
    "version": 3
   },
   "file_extension": ".py",
   "mimetype": "text/x-python",
   "name": "python",
   "nbconvert_exporter": "python",
   "pygments_lexer": "ipython3",
   "version": "3.7.10"
  }
 },
 "nbformat": 4,
 "nbformat_minor": 4
}
